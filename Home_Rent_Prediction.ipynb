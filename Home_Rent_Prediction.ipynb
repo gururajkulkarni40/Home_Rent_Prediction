{
  "nbformat": 4,
  "nbformat_minor": 0,
  "metadata": {
    "colab": {
      "name": "Home_Rent_Prediction.ipynb",
      "provenance": [],
      "authorship_tag": "ABX9TyOIovMOrymH14rh1VnNm6yV",
      "include_colab_link": true
    },
    "kernelspec": {
      "name": "python3",
      "display_name": "Python 3"
    },
    "language_info": {
      "name": "python"
    }
  },
  "cells": [
    {
      "cell_type": "markdown",
      "metadata": {
        "id": "view-in-github",
        "colab_type": "text"
      },
      "source": [
        "<a href=\"https://colab.research.google.com/github/gururajkulkarni40/Home_Rent_Prediction/blob/main/Home_Rent_Prediction.ipynb\" target=\"_parent\"><img src=\"https://colab.research.google.com/assets/colab-badge.svg\" alt=\"Open In Colab\"/></a>"
      ]
    },
    {
      "cell_type": "code",
      "metadata": {
        "id": "mnlwHnHR3w4d"
      },
      "source": [
        "!pip install panda"
      ],
      "execution_count": null,
      "outputs": []
    },
    {
      "cell_type": "code",
      "metadata": {
        "id": "yaTN5HwX3XPr"
      },
      "source": [
        "\n",
        "import pandas as pd\n",
        "import matplotlib\n",
        "import seaborn as sns"
      ],
      "execution_count": 4,
      "outputs": []
    },
    {
      "cell_type": "code",
      "metadata": {
        "colab": {
          "base_uri": "https://localhost:8080/"
        },
        "id": "q-lHulkj39cW",
        "outputId": "a69967b0-af49-4699-8235-a3fefbfd9166"
      },
      "source": [
        "from google.colab import drive\n",
        "drive.mount('/content/drive')"
      ],
      "execution_count": 5,
      "outputs": [
        {
          "output_type": "stream",
          "text": [
            "Mounted at /content/drive\n"
          ],
          "name": "stdout"
        }
      ]
    },
    {
      "cell_type": "code",
      "metadata": {
        "id": "Y2eyZwUa4OPG"
      },
      "source": [
        "data=pd.read_csv('/content/drive/MyDrive/MACHINE LEARNING PROJECTS/Home_Rent_Prediction/kc_house_data.csv')"
      ],
      "execution_count": 6,
      "outputs": []
    },
    {
      "cell_type": "code",
      "metadata": {
        "colab": {
          "base_uri": "https://localhost:8080/",
          "height": 226
        },
        "id": "Xgv6krLe4ZTb",
        "outputId": "aeb6e0ac-e2e3-4079-c09e-7c59570fabac"
      },
      "source": [
        "data.head()"
      ],
      "execution_count": 7,
      "outputs": [
        {
          "output_type": "execute_result",
          "data": {
            "text/html": [
              "<div>\n",
              "<style scoped>\n",
              "    .dataframe tbody tr th:only-of-type {\n",
              "        vertical-align: middle;\n",
              "    }\n",
              "\n",
              "    .dataframe tbody tr th {\n",
              "        vertical-align: top;\n",
              "    }\n",
              "\n",
              "    .dataframe thead th {\n",
              "        text-align: right;\n",
              "    }\n",
              "</style>\n",
              "<table border=\"1\" class=\"dataframe\">\n",
              "  <thead>\n",
              "    <tr style=\"text-align: right;\">\n",
              "      <th></th>\n",
              "      <th>id</th>\n",
              "      <th>date</th>\n",
              "      <th>price</th>\n",
              "      <th>bedrooms</th>\n",
              "      <th>bathrooms</th>\n",
              "      <th>sqft_living</th>\n",
              "      <th>sqft_lot</th>\n",
              "      <th>floors</th>\n",
              "      <th>waterfront</th>\n",
              "      <th>view</th>\n",
              "      <th>condition</th>\n",
              "      <th>grade</th>\n",
              "      <th>sqft_above</th>\n",
              "      <th>sqft_basement</th>\n",
              "      <th>yr_built</th>\n",
              "      <th>yr_renovated</th>\n",
              "      <th>zipcode</th>\n",
              "      <th>lat</th>\n",
              "      <th>long</th>\n",
              "      <th>sqft_living15</th>\n",
              "      <th>sqft_lot15</th>\n",
              "    </tr>\n",
              "  </thead>\n",
              "  <tbody>\n",
              "    <tr>\n",
              "      <th>0</th>\n",
              "      <td>7129300520</td>\n",
              "      <td>20141013T000000</td>\n",
              "      <td>221900.0</td>\n",
              "      <td>3</td>\n",
              "      <td>1.00</td>\n",
              "      <td>1180</td>\n",
              "      <td>5650</td>\n",
              "      <td>1.0</td>\n",
              "      <td>0</td>\n",
              "      <td>0</td>\n",
              "      <td>3</td>\n",
              "      <td>7</td>\n",
              "      <td>1180</td>\n",
              "      <td>0</td>\n",
              "      <td>1955</td>\n",
              "      <td>0</td>\n",
              "      <td>98178</td>\n",
              "      <td>47.5112</td>\n",
              "      <td>-122.257</td>\n",
              "      <td>1340</td>\n",
              "      <td>5650</td>\n",
              "    </tr>\n",
              "    <tr>\n",
              "      <th>1</th>\n",
              "      <td>6414100192</td>\n",
              "      <td>20141209T000000</td>\n",
              "      <td>538000.0</td>\n",
              "      <td>3</td>\n",
              "      <td>2.25</td>\n",
              "      <td>2570</td>\n",
              "      <td>7242</td>\n",
              "      <td>2.0</td>\n",
              "      <td>0</td>\n",
              "      <td>0</td>\n",
              "      <td>3</td>\n",
              "      <td>7</td>\n",
              "      <td>2170</td>\n",
              "      <td>400</td>\n",
              "      <td>1951</td>\n",
              "      <td>1991</td>\n",
              "      <td>98125</td>\n",
              "      <td>47.7210</td>\n",
              "      <td>-122.319</td>\n",
              "      <td>1690</td>\n",
              "      <td>7639</td>\n",
              "    </tr>\n",
              "    <tr>\n",
              "      <th>2</th>\n",
              "      <td>5631500400</td>\n",
              "      <td>20150225T000000</td>\n",
              "      <td>180000.0</td>\n",
              "      <td>2</td>\n",
              "      <td>1.00</td>\n",
              "      <td>770</td>\n",
              "      <td>10000</td>\n",
              "      <td>1.0</td>\n",
              "      <td>0</td>\n",
              "      <td>0</td>\n",
              "      <td>3</td>\n",
              "      <td>6</td>\n",
              "      <td>770</td>\n",
              "      <td>0</td>\n",
              "      <td>1933</td>\n",
              "      <td>0</td>\n",
              "      <td>98028</td>\n",
              "      <td>47.7379</td>\n",
              "      <td>-122.233</td>\n",
              "      <td>2720</td>\n",
              "      <td>8062</td>\n",
              "    </tr>\n",
              "    <tr>\n",
              "      <th>3</th>\n",
              "      <td>2487200875</td>\n",
              "      <td>20141209T000000</td>\n",
              "      <td>604000.0</td>\n",
              "      <td>4</td>\n",
              "      <td>3.00</td>\n",
              "      <td>1960</td>\n",
              "      <td>5000</td>\n",
              "      <td>1.0</td>\n",
              "      <td>0</td>\n",
              "      <td>0</td>\n",
              "      <td>5</td>\n",
              "      <td>7</td>\n",
              "      <td>1050</td>\n",
              "      <td>910</td>\n",
              "      <td>1965</td>\n",
              "      <td>0</td>\n",
              "      <td>98136</td>\n",
              "      <td>47.5208</td>\n",
              "      <td>-122.393</td>\n",
              "      <td>1360</td>\n",
              "      <td>5000</td>\n",
              "    </tr>\n",
              "    <tr>\n",
              "      <th>4</th>\n",
              "      <td>1954400510</td>\n",
              "      <td>20150218T000000</td>\n",
              "      <td>510000.0</td>\n",
              "      <td>3</td>\n",
              "      <td>2.00</td>\n",
              "      <td>1680</td>\n",
              "      <td>8080</td>\n",
              "      <td>1.0</td>\n",
              "      <td>0</td>\n",
              "      <td>0</td>\n",
              "      <td>3</td>\n",
              "      <td>8</td>\n",
              "      <td>1680</td>\n",
              "      <td>0</td>\n",
              "      <td>1987</td>\n",
              "      <td>0</td>\n",
              "      <td>98074</td>\n",
              "      <td>47.6168</td>\n",
              "      <td>-122.045</td>\n",
              "      <td>1800</td>\n",
              "      <td>7503</td>\n",
              "    </tr>\n",
              "  </tbody>\n",
              "</table>\n",
              "</div>"
            ],
            "text/plain": [
              "           id             date     price  ...     long  sqft_living15  sqft_lot15\n",
              "0  7129300520  20141013T000000  221900.0  ... -122.257           1340        5650\n",
              "1  6414100192  20141209T000000  538000.0  ... -122.319           1690        7639\n",
              "2  5631500400  20150225T000000  180000.0  ... -122.233           2720        8062\n",
              "3  2487200875  20141209T000000  604000.0  ... -122.393           1360        5000\n",
              "4  1954400510  20150218T000000  510000.0  ... -122.045           1800        7503\n",
              "\n",
              "[5 rows x 21 columns]"
            ]
          },
          "metadata": {
            "tags": []
          },
          "execution_count": 7
        }
      ]
    },
    {
      "cell_type": "code",
      "metadata": {
        "id": "WIajt24k4eMy"
      },
      "source": [
        ""
      ],
      "execution_count": null,
      "outputs": []
    },
    {
      "cell_type": "markdown",
      "metadata": {
        "id": "2ivK2QLn4hPE"
      },
      "source": [
        "Exploratory Data Analysis¶"
      ]
    },
    {
      "cell_type": "code",
      "metadata": {
        "colab": {
          "base_uri": "https://localhost:8080/"
        },
        "id": "Sd35fXi_4kD8",
        "outputId": "11c50656-d00f-4e02-b3d6-ba8b2e39fdc5"
      },
      "source": [
        "data.shape"
      ],
      "execution_count": 9,
      "outputs": [
        {
          "output_type": "execute_result",
          "data": {
            "text/plain": [
              "(21613, 21)"
            ]
          },
          "metadata": {
            "tags": []
          },
          "execution_count": 9
        }
      ]
    },
    {
      "cell_type": "code",
      "metadata": {
        "id": "PrBqlRoG4rmn"
      },
      "source": [
        "pd.set_option('display.float_format', lambda x: '%.5f' % x)"
      ],
      "execution_count": 10,
      "outputs": []
    },
    {
      "cell_type": "code",
      "metadata": {
        "colab": {
          "base_uri": "https://localhost:8080/",
          "height": 320
        },
        "id": "AklAFikr4vNN",
        "outputId": "2d18d7fb-2354-43bc-9d2b-fe89854a4f26"
      },
      "source": [
        "data.describe()"
      ],
      "execution_count": 11,
      "outputs": [
        {
          "output_type": "execute_result",
          "data": {
            "text/html": [
              "<div>\n",
              "<style scoped>\n",
              "    .dataframe tbody tr th:only-of-type {\n",
              "        vertical-align: middle;\n",
              "    }\n",
              "\n",
              "    .dataframe tbody tr th {\n",
              "        vertical-align: top;\n",
              "    }\n",
              "\n",
              "    .dataframe thead th {\n",
              "        text-align: right;\n",
              "    }\n",
              "</style>\n",
              "<table border=\"1\" class=\"dataframe\">\n",
              "  <thead>\n",
              "    <tr style=\"text-align: right;\">\n",
              "      <th></th>\n",
              "      <th>id</th>\n",
              "      <th>price</th>\n",
              "      <th>bedrooms</th>\n",
              "      <th>bathrooms</th>\n",
              "      <th>sqft_living</th>\n",
              "      <th>sqft_lot</th>\n",
              "      <th>floors</th>\n",
              "      <th>waterfront</th>\n",
              "      <th>view</th>\n",
              "      <th>condition</th>\n",
              "      <th>grade</th>\n",
              "      <th>sqft_above</th>\n",
              "      <th>sqft_basement</th>\n",
              "      <th>yr_built</th>\n",
              "      <th>yr_renovated</th>\n",
              "      <th>zipcode</th>\n",
              "      <th>lat</th>\n",
              "      <th>long</th>\n",
              "      <th>sqft_living15</th>\n",
              "      <th>sqft_lot15</th>\n",
              "    </tr>\n",
              "  </thead>\n",
              "  <tbody>\n",
              "    <tr>\n",
              "      <th>count</th>\n",
              "      <td>21613.00000</td>\n",
              "      <td>21613.00000</td>\n",
              "      <td>21613.00000</td>\n",
              "      <td>21613.00000</td>\n",
              "      <td>21613.00000</td>\n",
              "      <td>21613.00000</td>\n",
              "      <td>21613.00000</td>\n",
              "      <td>21613.00000</td>\n",
              "      <td>21613.00000</td>\n",
              "      <td>21613.00000</td>\n",
              "      <td>21613.00000</td>\n",
              "      <td>21613.00000</td>\n",
              "      <td>21613.00000</td>\n",
              "      <td>21613.00000</td>\n",
              "      <td>21613.00000</td>\n",
              "      <td>21613.00000</td>\n",
              "      <td>21613.00000</td>\n",
              "      <td>21613.00000</td>\n",
              "      <td>21613.00000</td>\n",
              "      <td>21613.00000</td>\n",
              "    </tr>\n",
              "    <tr>\n",
              "      <th>mean</th>\n",
              "      <td>4580301520.86499</td>\n",
              "      <td>540088.14177</td>\n",
              "      <td>3.37084</td>\n",
              "      <td>2.11476</td>\n",
              "      <td>2079.89974</td>\n",
              "      <td>15106.96757</td>\n",
              "      <td>1.49431</td>\n",
              "      <td>0.00754</td>\n",
              "      <td>0.23430</td>\n",
              "      <td>3.40943</td>\n",
              "      <td>7.65687</td>\n",
              "      <td>1788.39069</td>\n",
              "      <td>291.50905</td>\n",
              "      <td>1971.00514</td>\n",
              "      <td>84.40226</td>\n",
              "      <td>98077.93980</td>\n",
              "      <td>47.56005</td>\n",
              "      <td>-122.21390</td>\n",
              "      <td>1986.55249</td>\n",
              "      <td>12768.45565</td>\n",
              "    </tr>\n",
              "    <tr>\n",
              "      <th>std</th>\n",
              "      <td>2876565571.31205</td>\n",
              "      <td>367127.19648</td>\n",
              "      <td>0.93006</td>\n",
              "      <td>0.77016</td>\n",
              "      <td>918.44090</td>\n",
              "      <td>41420.51152</td>\n",
              "      <td>0.53999</td>\n",
              "      <td>0.08652</td>\n",
              "      <td>0.76632</td>\n",
              "      <td>0.65074</td>\n",
              "      <td>1.17546</td>\n",
              "      <td>828.09098</td>\n",
              "      <td>442.57504</td>\n",
              "      <td>29.37341</td>\n",
              "      <td>401.67924</td>\n",
              "      <td>53.50503</td>\n",
              "      <td>0.13856</td>\n",
              "      <td>0.14083</td>\n",
              "      <td>685.39130</td>\n",
              "      <td>27304.17963</td>\n",
              "    </tr>\n",
              "    <tr>\n",
              "      <th>min</th>\n",
              "      <td>1000102.00000</td>\n",
              "      <td>75000.00000</td>\n",
              "      <td>0.00000</td>\n",
              "      <td>0.00000</td>\n",
              "      <td>290.00000</td>\n",
              "      <td>520.00000</td>\n",
              "      <td>1.00000</td>\n",
              "      <td>0.00000</td>\n",
              "      <td>0.00000</td>\n",
              "      <td>1.00000</td>\n",
              "      <td>1.00000</td>\n",
              "      <td>290.00000</td>\n",
              "      <td>0.00000</td>\n",
              "      <td>1900.00000</td>\n",
              "      <td>0.00000</td>\n",
              "      <td>98001.00000</td>\n",
              "      <td>47.15590</td>\n",
              "      <td>-122.51900</td>\n",
              "      <td>399.00000</td>\n",
              "      <td>651.00000</td>\n",
              "    </tr>\n",
              "    <tr>\n",
              "      <th>25%</th>\n",
              "      <td>2123049194.00000</td>\n",
              "      <td>321950.00000</td>\n",
              "      <td>3.00000</td>\n",
              "      <td>1.75000</td>\n",
              "      <td>1427.00000</td>\n",
              "      <td>5040.00000</td>\n",
              "      <td>1.00000</td>\n",
              "      <td>0.00000</td>\n",
              "      <td>0.00000</td>\n",
              "      <td>3.00000</td>\n",
              "      <td>7.00000</td>\n",
              "      <td>1190.00000</td>\n",
              "      <td>0.00000</td>\n",
              "      <td>1951.00000</td>\n",
              "      <td>0.00000</td>\n",
              "      <td>98033.00000</td>\n",
              "      <td>47.47100</td>\n",
              "      <td>-122.32800</td>\n",
              "      <td>1490.00000</td>\n",
              "      <td>5100.00000</td>\n",
              "    </tr>\n",
              "    <tr>\n",
              "      <th>50%</th>\n",
              "      <td>3904930410.00000</td>\n",
              "      <td>450000.00000</td>\n",
              "      <td>3.00000</td>\n",
              "      <td>2.25000</td>\n",
              "      <td>1910.00000</td>\n",
              "      <td>7618.00000</td>\n",
              "      <td>1.50000</td>\n",
              "      <td>0.00000</td>\n",
              "      <td>0.00000</td>\n",
              "      <td>3.00000</td>\n",
              "      <td>7.00000</td>\n",
              "      <td>1560.00000</td>\n",
              "      <td>0.00000</td>\n",
              "      <td>1975.00000</td>\n",
              "      <td>0.00000</td>\n",
              "      <td>98065.00000</td>\n",
              "      <td>47.57180</td>\n",
              "      <td>-122.23000</td>\n",
              "      <td>1840.00000</td>\n",
              "      <td>7620.00000</td>\n",
              "    </tr>\n",
              "    <tr>\n",
              "      <th>75%</th>\n",
              "      <td>7308900445.00000</td>\n",
              "      <td>645000.00000</td>\n",
              "      <td>4.00000</td>\n",
              "      <td>2.50000</td>\n",
              "      <td>2550.00000</td>\n",
              "      <td>10688.00000</td>\n",
              "      <td>2.00000</td>\n",
              "      <td>0.00000</td>\n",
              "      <td>0.00000</td>\n",
              "      <td>4.00000</td>\n",
              "      <td>8.00000</td>\n",
              "      <td>2210.00000</td>\n",
              "      <td>560.00000</td>\n",
              "      <td>1997.00000</td>\n",
              "      <td>0.00000</td>\n",
              "      <td>98118.00000</td>\n",
              "      <td>47.67800</td>\n",
              "      <td>-122.12500</td>\n",
              "      <td>2360.00000</td>\n",
              "      <td>10083.00000</td>\n",
              "    </tr>\n",
              "    <tr>\n",
              "      <th>max</th>\n",
              "      <td>9900000190.00000</td>\n",
              "      <td>7700000.00000</td>\n",
              "      <td>33.00000</td>\n",
              "      <td>8.00000</td>\n",
              "      <td>13540.00000</td>\n",
              "      <td>1651359.00000</td>\n",
              "      <td>3.50000</td>\n",
              "      <td>1.00000</td>\n",
              "      <td>4.00000</td>\n",
              "      <td>5.00000</td>\n",
              "      <td>13.00000</td>\n",
              "      <td>9410.00000</td>\n",
              "      <td>4820.00000</td>\n",
              "      <td>2015.00000</td>\n",
              "      <td>2015.00000</td>\n",
              "      <td>98199.00000</td>\n",
              "      <td>47.77760</td>\n",
              "      <td>-121.31500</td>\n",
              "      <td>6210.00000</td>\n",
              "      <td>871200.00000</td>\n",
              "    </tr>\n",
              "  </tbody>\n",
              "</table>\n",
              "</div>"
            ],
            "text/plain": [
              "                    id         price  ...  sqft_living15   sqft_lot15\n",
              "count      21613.00000   21613.00000  ...    21613.00000  21613.00000\n",
              "mean  4580301520.86499  540088.14177  ...     1986.55249  12768.45565\n",
              "std   2876565571.31205  367127.19648  ...      685.39130  27304.17963\n",
              "min      1000102.00000   75000.00000  ...      399.00000    651.00000\n",
              "25%   2123049194.00000  321950.00000  ...     1490.00000   5100.00000\n",
              "50%   3904930410.00000  450000.00000  ...     1840.00000   7620.00000\n",
              "75%   7308900445.00000  645000.00000  ...     2360.00000  10083.00000\n",
              "max   9900000190.00000 7700000.00000  ...     6210.00000 871200.00000\n",
              "\n",
              "[8 rows x 20 columns]"
            ]
          },
          "metadata": {
            "tags": []
          },
          "execution_count": 11
        }
      ]
    },
    {
      "cell_type": "code",
      "metadata": {
        "colab": {
          "base_uri": "https://localhost:8080/"
        },
        "id": "NrmIMm2f4zmd",
        "outputId": "946fb690-1f73-45f3-80bf-9ca33da0821f"
      },
      "source": [
        "data.info()"
      ],
      "execution_count": 12,
      "outputs": [
        {
          "output_type": "stream",
          "text": [
            "<class 'pandas.core.frame.DataFrame'>\n",
            "RangeIndex: 21613 entries, 0 to 21612\n",
            "Data columns (total 21 columns):\n",
            " #   Column         Non-Null Count  Dtype  \n",
            "---  ------         --------------  -----  \n",
            " 0   id             21613 non-null  int64  \n",
            " 1   date           21613 non-null  object \n",
            " 2   price          21613 non-null  float64\n",
            " 3   bedrooms       21613 non-null  int64  \n",
            " 4   bathrooms      21613 non-null  float64\n",
            " 5   sqft_living    21613 non-null  int64  \n",
            " 6   sqft_lot       21613 non-null  int64  \n",
            " 7   floors         21613 non-null  float64\n",
            " 8   waterfront     21613 non-null  int64  \n",
            " 9   view           21613 non-null  int64  \n",
            " 10  condition      21613 non-null  int64  \n",
            " 11  grade          21613 non-null  int64  \n",
            " 12  sqft_above     21613 non-null  int64  \n",
            " 13  sqft_basement  21613 non-null  int64  \n",
            " 14  yr_built       21613 non-null  int64  \n",
            " 15  yr_renovated   21613 non-null  int64  \n",
            " 16  zipcode        21613 non-null  int64  \n",
            " 17  lat            21613 non-null  float64\n",
            " 18  long           21613 non-null  float64\n",
            " 19  sqft_living15  21613 non-null  int64  \n",
            " 20  sqft_lot15     21613 non-null  int64  \n",
            "dtypes: float64(5), int64(15), object(1)\n",
            "memory usage: 3.5+ MB\n"
          ],
          "name": "stdout"
        }
      ]
    },
    {
      "cell_type": "code",
      "metadata": {
        "colab": {
          "base_uri": "https://localhost:8080/"
        },
        "id": "GP4KaKMK44_d",
        "outputId": "34db336a-a575-42be-c0da-516132676932"
      },
      "source": [
        "data.isnull().sum()"
      ],
      "execution_count": 13,
      "outputs": [
        {
          "output_type": "execute_result",
          "data": {
            "text/plain": [
              "id               0\n",
              "date             0\n",
              "price            0\n",
              "bedrooms         0\n",
              "bathrooms        0\n",
              "sqft_living      0\n",
              "sqft_lot         0\n",
              "floors           0\n",
              "waterfront       0\n",
              "view             0\n",
              "condition        0\n",
              "grade            0\n",
              "sqft_above       0\n",
              "sqft_basement    0\n",
              "yr_built         0\n",
              "yr_renovated     0\n",
              "zipcode          0\n",
              "lat              0\n",
              "long             0\n",
              "sqft_living15    0\n",
              "sqft_lot15       0\n",
              "dtype: int64"
            ]
          },
          "metadata": {
            "tags": []
          },
          "execution_count": 13
        }
      ]
    },
    {
      "cell_type": "markdown",
      "metadata": {
        "id": "u4coTuYP4-a0"
      },
      "source": [
        "Splitting of Data for training and testing"
      ]
    },
    {
      "cell_type": "code",
      "metadata": {
        "id": "fTFV_7AP5JBL"
      },
      "source": [
        "X=data[['bedrooms', 'bathrooms', 'sqft_living',\n",
        "       'sqft_lot', 'floors', 'waterfront', 'view', 'condition', 'grade',\n",
        "       'sqft_above', 'sqft_basement',\n",
        "        'sqft_living15', 'sqft_lot15']]"
      ],
      "execution_count": 14,
      "outputs": []
    },
    {
      "cell_type": "code",
      "metadata": {
        "colab": {
          "base_uri": "https://localhost:8080/",
          "height": 444
        },
        "id": "QoAiScEL5MFS",
        "outputId": "427cacd0-3bbf-492e-c764-9d04eb60965b"
      },
      "source": [
        "X"
      ],
      "execution_count": 17,
      "outputs": [
        {
          "output_type": "execute_result",
          "data": {
            "text/html": [
              "<div>\n",
              "<style scoped>\n",
              "    .dataframe tbody tr th:only-of-type {\n",
              "        vertical-align: middle;\n",
              "    }\n",
              "\n",
              "    .dataframe tbody tr th {\n",
              "        vertical-align: top;\n",
              "    }\n",
              "\n",
              "    .dataframe thead th {\n",
              "        text-align: right;\n",
              "    }\n",
              "</style>\n",
              "<table border=\"1\" class=\"dataframe\">\n",
              "  <thead>\n",
              "    <tr style=\"text-align: right;\">\n",
              "      <th></th>\n",
              "      <th>bedrooms</th>\n",
              "      <th>bathrooms</th>\n",
              "      <th>sqft_living</th>\n",
              "      <th>sqft_lot</th>\n",
              "      <th>floors</th>\n",
              "      <th>waterfront</th>\n",
              "      <th>view</th>\n",
              "      <th>condition</th>\n",
              "      <th>grade</th>\n",
              "      <th>sqft_above</th>\n",
              "      <th>sqft_basement</th>\n",
              "      <th>sqft_living15</th>\n",
              "      <th>sqft_lot15</th>\n",
              "    </tr>\n",
              "  </thead>\n",
              "  <tbody>\n",
              "    <tr>\n",
              "      <th>0</th>\n",
              "      <td>3</td>\n",
              "      <td>1.00000</td>\n",
              "      <td>1180</td>\n",
              "      <td>5650</td>\n",
              "      <td>1.00000</td>\n",
              "      <td>0</td>\n",
              "      <td>0</td>\n",
              "      <td>3</td>\n",
              "      <td>7</td>\n",
              "      <td>1180</td>\n",
              "      <td>0</td>\n",
              "      <td>1340</td>\n",
              "      <td>5650</td>\n",
              "    </tr>\n",
              "    <tr>\n",
              "      <th>1</th>\n",
              "      <td>3</td>\n",
              "      <td>2.25000</td>\n",
              "      <td>2570</td>\n",
              "      <td>7242</td>\n",
              "      <td>2.00000</td>\n",
              "      <td>0</td>\n",
              "      <td>0</td>\n",
              "      <td>3</td>\n",
              "      <td>7</td>\n",
              "      <td>2170</td>\n",
              "      <td>400</td>\n",
              "      <td>1690</td>\n",
              "      <td>7639</td>\n",
              "    </tr>\n",
              "    <tr>\n",
              "      <th>2</th>\n",
              "      <td>2</td>\n",
              "      <td>1.00000</td>\n",
              "      <td>770</td>\n",
              "      <td>10000</td>\n",
              "      <td>1.00000</td>\n",
              "      <td>0</td>\n",
              "      <td>0</td>\n",
              "      <td>3</td>\n",
              "      <td>6</td>\n",
              "      <td>770</td>\n",
              "      <td>0</td>\n",
              "      <td>2720</td>\n",
              "      <td>8062</td>\n",
              "    </tr>\n",
              "    <tr>\n",
              "      <th>3</th>\n",
              "      <td>4</td>\n",
              "      <td>3.00000</td>\n",
              "      <td>1960</td>\n",
              "      <td>5000</td>\n",
              "      <td>1.00000</td>\n",
              "      <td>0</td>\n",
              "      <td>0</td>\n",
              "      <td>5</td>\n",
              "      <td>7</td>\n",
              "      <td>1050</td>\n",
              "      <td>910</td>\n",
              "      <td>1360</td>\n",
              "      <td>5000</td>\n",
              "    </tr>\n",
              "    <tr>\n",
              "      <th>4</th>\n",
              "      <td>3</td>\n",
              "      <td>2.00000</td>\n",
              "      <td>1680</td>\n",
              "      <td>8080</td>\n",
              "      <td>1.00000</td>\n",
              "      <td>0</td>\n",
              "      <td>0</td>\n",
              "      <td>3</td>\n",
              "      <td>8</td>\n",
              "      <td>1680</td>\n",
              "      <td>0</td>\n",
              "      <td>1800</td>\n",
              "      <td>7503</td>\n",
              "    </tr>\n",
              "    <tr>\n",
              "      <th>...</th>\n",
              "      <td>...</td>\n",
              "      <td>...</td>\n",
              "      <td>...</td>\n",
              "      <td>...</td>\n",
              "      <td>...</td>\n",
              "      <td>...</td>\n",
              "      <td>...</td>\n",
              "      <td>...</td>\n",
              "      <td>...</td>\n",
              "      <td>...</td>\n",
              "      <td>...</td>\n",
              "      <td>...</td>\n",
              "      <td>...</td>\n",
              "    </tr>\n",
              "    <tr>\n",
              "      <th>21608</th>\n",
              "      <td>3</td>\n",
              "      <td>2.50000</td>\n",
              "      <td>1530</td>\n",
              "      <td>1131</td>\n",
              "      <td>3.00000</td>\n",
              "      <td>0</td>\n",
              "      <td>0</td>\n",
              "      <td>3</td>\n",
              "      <td>8</td>\n",
              "      <td>1530</td>\n",
              "      <td>0</td>\n",
              "      <td>1530</td>\n",
              "      <td>1509</td>\n",
              "    </tr>\n",
              "    <tr>\n",
              "      <th>21609</th>\n",
              "      <td>4</td>\n",
              "      <td>2.50000</td>\n",
              "      <td>2310</td>\n",
              "      <td>5813</td>\n",
              "      <td>2.00000</td>\n",
              "      <td>0</td>\n",
              "      <td>0</td>\n",
              "      <td>3</td>\n",
              "      <td>8</td>\n",
              "      <td>2310</td>\n",
              "      <td>0</td>\n",
              "      <td>1830</td>\n",
              "      <td>7200</td>\n",
              "    </tr>\n",
              "    <tr>\n",
              "      <th>21610</th>\n",
              "      <td>2</td>\n",
              "      <td>0.75000</td>\n",
              "      <td>1020</td>\n",
              "      <td>1350</td>\n",
              "      <td>2.00000</td>\n",
              "      <td>0</td>\n",
              "      <td>0</td>\n",
              "      <td>3</td>\n",
              "      <td>7</td>\n",
              "      <td>1020</td>\n",
              "      <td>0</td>\n",
              "      <td>1020</td>\n",
              "      <td>2007</td>\n",
              "    </tr>\n",
              "    <tr>\n",
              "      <th>21611</th>\n",
              "      <td>3</td>\n",
              "      <td>2.50000</td>\n",
              "      <td>1600</td>\n",
              "      <td>2388</td>\n",
              "      <td>2.00000</td>\n",
              "      <td>0</td>\n",
              "      <td>0</td>\n",
              "      <td>3</td>\n",
              "      <td>8</td>\n",
              "      <td>1600</td>\n",
              "      <td>0</td>\n",
              "      <td>1410</td>\n",
              "      <td>1287</td>\n",
              "    </tr>\n",
              "    <tr>\n",
              "      <th>21612</th>\n",
              "      <td>2</td>\n",
              "      <td>0.75000</td>\n",
              "      <td>1020</td>\n",
              "      <td>1076</td>\n",
              "      <td>2.00000</td>\n",
              "      <td>0</td>\n",
              "      <td>0</td>\n",
              "      <td>3</td>\n",
              "      <td>7</td>\n",
              "      <td>1020</td>\n",
              "      <td>0</td>\n",
              "      <td>1020</td>\n",
              "      <td>1357</td>\n",
              "    </tr>\n",
              "  </tbody>\n",
              "</table>\n",
              "<p>21613 rows × 13 columns</p>\n",
              "</div>"
            ],
            "text/plain": [
              "       bedrooms  bathrooms  ...  sqft_living15  sqft_lot15\n",
              "0             3    1.00000  ...           1340        5650\n",
              "1             3    2.25000  ...           1690        7639\n",
              "2             2    1.00000  ...           2720        8062\n",
              "3             4    3.00000  ...           1360        5000\n",
              "4             3    2.00000  ...           1800        7503\n",
              "...         ...        ...  ...            ...         ...\n",
              "21608         3    2.50000  ...           1530        1509\n",
              "21609         4    2.50000  ...           1830        7200\n",
              "21610         2    0.75000  ...           1020        2007\n",
              "21611         3    2.50000  ...           1410        1287\n",
              "21612         2    0.75000  ...           1020        1357\n",
              "\n",
              "[21613 rows x 13 columns]"
            ]
          },
          "metadata": {
            "tags": []
          },
          "execution_count": 17
        }
      ]
    },
    {
      "cell_type": "code",
      "metadata": {
        "id": "9IwQ9CEd5-fX"
      },
      "source": [
        "Y=data['price']"
      ],
      "execution_count": 18,
      "outputs": []
    },
    {
      "cell_type": "code",
      "metadata": {
        "colab": {
          "base_uri": "https://localhost:8080/"
        },
        "id": "boUdayK86J81",
        "outputId": "f4bc12da-807e-4b84-f0f8-b26c882576d0"
      },
      "source": [
        "Y"
      ],
      "execution_count": 19,
      "outputs": [
        {
          "output_type": "execute_result",
          "data": {
            "text/plain": [
              "0       221900.00000\n",
              "1       538000.00000\n",
              "2       180000.00000\n",
              "3       604000.00000\n",
              "4       510000.00000\n",
              "            ...     \n",
              "21608   360000.00000\n",
              "21609   400000.00000\n",
              "21610   402101.00000\n",
              "21611   400000.00000\n",
              "21612   325000.00000\n",
              "Name: price, Length: 21613, dtype: float64"
            ]
          },
          "metadata": {
            "tags": []
          },
          "execution_count": 19
        }
      ]
    },
    {
      "cell_type": "code",
      "metadata": {
        "colab": {
          "base_uri": "https://localhost:8080/"
        },
        "id": "AYksIpFA6PwO",
        "outputId": "5b466312-679c-488f-d560-59490c9bc047"
      },
      "source": [
        "!pip install scikit-learn"
      ],
      "execution_count": 20,
      "outputs": [
        {
          "output_type": "stream",
          "text": [
            "Requirement already satisfied: scikit-learn in /usr/local/lib/python3.7/dist-packages (0.22.2.post1)\n",
            "Requirement already satisfied: joblib>=0.11 in /usr/local/lib/python3.7/dist-packages (from scikit-learn) (1.0.1)\n",
            "Requirement already satisfied: scipy>=0.17.0 in /usr/local/lib/python3.7/dist-packages (from scikit-learn) (1.4.1)\n",
            "Requirement already satisfied: numpy>=1.11.0 in /usr/local/lib/python3.7/dist-packages (from scikit-learn) (1.19.5)\n"
          ],
          "name": "stdout"
        }
      ]
    },
    {
      "cell_type": "code",
      "metadata": {
        "id": "igHfe49K6UmX"
      },
      "source": [
        "from sklearn.model_selection import train_test_split"
      ],
      "execution_count": 21,
      "outputs": []
    },
    {
      "cell_type": "code",
      "metadata": {
        "id": "6KyXZ84F6Xp6"
      },
      "source": [
        "X_train, X_test , Y_train , Y_test = train_test_split(X,Y,test_size=0.25,random_state=101)"
      ],
      "execution_count": 22,
      "outputs": []
    },
    {
      "cell_type": "code",
      "metadata": {
        "colab": {
          "base_uri": "https://localhost:8080/",
          "height": 444
        },
        "id": "u0Rwn-OY6gVb",
        "outputId": "e6df2ead-61f9-404f-8e43-338a315271b7"
      },
      "source": [
        "X_train"
      ],
      "execution_count": 24,
      "outputs": [
        {
          "output_type": "execute_result",
          "data": {
            "text/html": [
              "<div>\n",
              "<style scoped>\n",
              "    .dataframe tbody tr th:only-of-type {\n",
              "        vertical-align: middle;\n",
              "    }\n",
              "\n",
              "    .dataframe tbody tr th {\n",
              "        vertical-align: top;\n",
              "    }\n",
              "\n",
              "    .dataframe thead th {\n",
              "        text-align: right;\n",
              "    }\n",
              "</style>\n",
              "<table border=\"1\" class=\"dataframe\">\n",
              "  <thead>\n",
              "    <tr style=\"text-align: right;\">\n",
              "      <th></th>\n",
              "      <th>bedrooms</th>\n",
              "      <th>bathrooms</th>\n",
              "      <th>sqft_living</th>\n",
              "      <th>sqft_lot</th>\n",
              "      <th>floors</th>\n",
              "      <th>waterfront</th>\n",
              "      <th>view</th>\n",
              "      <th>condition</th>\n",
              "      <th>grade</th>\n",
              "      <th>sqft_above</th>\n",
              "      <th>sqft_basement</th>\n",
              "      <th>sqft_living15</th>\n",
              "      <th>sqft_lot15</th>\n",
              "    </tr>\n",
              "  </thead>\n",
              "  <tbody>\n",
              "    <tr>\n",
              "      <th>19642</th>\n",
              "      <td>4</td>\n",
              "      <td>2.50000</td>\n",
              "      <td>2070</td>\n",
              "      <td>4270</td>\n",
              "      <td>2.00000</td>\n",
              "      <td>0</td>\n",
              "      <td>0</td>\n",
              "      <td>3</td>\n",
              "      <td>8</td>\n",
              "      <td>2070</td>\n",
              "      <td>0</td>\n",
              "      <td>2070</td>\n",
              "      <td>4610</td>\n",
              "    </tr>\n",
              "    <tr>\n",
              "      <th>8626</th>\n",
              "      <td>3</td>\n",
              "      <td>2.25000</td>\n",
              "      <td>1400</td>\n",
              "      <td>6970</td>\n",
              "      <td>2.00000</td>\n",
              "      <td>0</td>\n",
              "      <td>0</td>\n",
              "      <td>3</td>\n",
              "      <td>8</td>\n",
              "      <td>1400</td>\n",
              "      <td>0</td>\n",
              "      <td>1800</td>\n",
              "      <td>8140</td>\n",
              "    </tr>\n",
              "    <tr>\n",
              "      <th>6954</th>\n",
              "      <td>5</td>\n",
              "      <td>3.00000</td>\n",
              "      <td>2190</td>\n",
              "      <td>4900</td>\n",
              "      <td>2.00000</td>\n",
              "      <td>0</td>\n",
              "      <td>0</td>\n",
              "      <td>5</td>\n",
              "      <td>7</td>\n",
              "      <td>1490</td>\n",
              "      <td>700</td>\n",
              "      <td>1370</td>\n",
              "      <td>4606</td>\n",
              "    </tr>\n",
              "    <tr>\n",
              "      <th>20242</th>\n",
              "      <td>4</td>\n",
              "      <td>2.50000</td>\n",
              "      <td>2547</td>\n",
              "      <td>4800</td>\n",
              "      <td>2.00000</td>\n",
              "      <td>0</td>\n",
              "      <td>0</td>\n",
              "      <td>3</td>\n",
              "      <td>9</td>\n",
              "      <td>2547</td>\n",
              "      <td>0</td>\n",
              "      <td>2598</td>\n",
              "      <td>4800</td>\n",
              "    </tr>\n",
              "    <tr>\n",
              "      <th>10376</th>\n",
              "      <td>5</td>\n",
              "      <td>3.50000</td>\n",
              "      <td>4060</td>\n",
              "      <td>8309</td>\n",
              "      <td>2.00000</td>\n",
              "      <td>0</td>\n",
              "      <td>0</td>\n",
              "      <td>3</td>\n",
              "      <td>9</td>\n",
              "      <td>2960</td>\n",
              "      <td>1100</td>\n",
              "      <td>1730</td>\n",
              "      <td>11711</td>\n",
              "    </tr>\n",
              "    <tr>\n",
              "      <th>...</th>\n",
              "      <td>...</td>\n",
              "      <td>...</td>\n",
              "      <td>...</td>\n",
              "      <td>...</td>\n",
              "      <td>...</td>\n",
              "      <td>...</td>\n",
              "      <td>...</td>\n",
              "      <td>...</td>\n",
              "      <td>...</td>\n",
              "      <td>...</td>\n",
              "      <td>...</td>\n",
              "      <td>...</td>\n",
              "      <td>...</td>\n",
              "    </tr>\n",
              "    <tr>\n",
              "      <th>5695</th>\n",
              "      <td>3</td>\n",
              "      <td>2.25000</td>\n",
              "      <td>1920</td>\n",
              "      <td>9672</td>\n",
              "      <td>2.00000</td>\n",
              "      <td>0</td>\n",
              "      <td>0</td>\n",
              "      <td>4</td>\n",
              "      <td>8</td>\n",
              "      <td>1920</td>\n",
              "      <td>0</td>\n",
              "      <td>1950</td>\n",
              "      <td>10125</td>\n",
              "    </tr>\n",
              "    <tr>\n",
              "      <th>8006</th>\n",
              "      <td>3</td>\n",
              "      <td>1.00000</td>\n",
              "      <td>1240</td>\n",
              "      <td>3600</td>\n",
              "      <td>1.50000</td>\n",
              "      <td>0</td>\n",
              "      <td>0</td>\n",
              "      <td>3</td>\n",
              "      <td>7</td>\n",
              "      <td>1240</td>\n",
              "      <td>0</td>\n",
              "      <td>1680</td>\n",
              "      <td>3600</td>\n",
              "    </tr>\n",
              "    <tr>\n",
              "      <th>17745</th>\n",
              "      <td>3</td>\n",
              "      <td>2.25000</td>\n",
              "      <td>1780</td>\n",
              "      <td>7332</td>\n",
              "      <td>2.00000</td>\n",
              "      <td>0</td>\n",
              "      <td>0</td>\n",
              "      <td>3</td>\n",
              "      <td>7</td>\n",
              "      <td>1780</td>\n",
              "      <td>0</td>\n",
              "      <td>1510</td>\n",
              "      <td>7625</td>\n",
              "    </tr>\n",
              "    <tr>\n",
              "      <th>17931</th>\n",
              "      <td>2</td>\n",
              "      <td>1.00000</td>\n",
              "      <td>1150</td>\n",
              "      <td>5000</td>\n",
              "      <td>1.00000</td>\n",
              "      <td>0</td>\n",
              "      <td>0</td>\n",
              "      <td>4</td>\n",
              "      <td>7</td>\n",
              "      <td>1050</td>\n",
              "      <td>100</td>\n",
              "      <td>1463</td>\n",
              "      <td>4320</td>\n",
              "    </tr>\n",
              "    <tr>\n",
              "      <th>13151</th>\n",
              "      <td>3</td>\n",
              "      <td>1.00000</td>\n",
              "      <td>1450</td>\n",
              "      <td>7930</td>\n",
              "      <td>1.00000</td>\n",
              "      <td>0</td>\n",
              "      <td>0</td>\n",
              "      <td>4</td>\n",
              "      <td>6</td>\n",
              "      <td>1150</td>\n",
              "      <td>300</td>\n",
              "      <td>1040</td>\n",
              "      <td>7740</td>\n",
              "    </tr>\n",
              "  </tbody>\n",
              "</table>\n",
              "<p>16209 rows × 13 columns</p>\n",
              "</div>"
            ],
            "text/plain": [
              "       bedrooms  bathrooms  ...  sqft_living15  sqft_lot15\n",
              "19642         4    2.50000  ...           2070        4610\n",
              "8626          3    2.25000  ...           1800        8140\n",
              "6954          5    3.00000  ...           1370        4606\n",
              "20242         4    2.50000  ...           2598        4800\n",
              "10376         5    3.50000  ...           1730       11711\n",
              "...         ...        ...  ...            ...         ...\n",
              "5695          3    2.25000  ...           1950       10125\n",
              "8006          3    1.00000  ...           1680        3600\n",
              "17745         3    2.25000  ...           1510        7625\n",
              "17931         2    1.00000  ...           1463        4320\n",
              "13151         3    1.00000  ...           1040        7740\n",
              "\n",
              "[16209 rows x 13 columns]"
            ]
          },
          "metadata": {
            "tags": []
          },
          "execution_count": 24
        }
      ]
    },
    {
      "cell_type": "markdown",
      "metadata": {
        "id": "CSHL5Zio6uNh"
      },
      "source": [
        "Normalization basically Standarization"
      ]
    },
    {
      "cell_type": "code",
      "metadata": {
        "id": "VfaKxFOR6oNU"
      },
      "source": [
        "from sklearn.preprocessing import StandardScaler\n",
        "std=StandardScaler()"
      ],
      "execution_count": 25,
      "outputs": []
    },
    {
      "cell_type": "code",
      "metadata": {
        "id": "mzx-8EDy63b2"
      },
      "source": [
        "\n",
        "\n",
        "X_train_std=std.fit_transform(X_train)\n",
        "X_test_std=std.transform(X_test)\n",
        "\n"
      ],
      "execution_count": 26,
      "outputs": []
    },
    {
      "cell_type": "markdown",
      "metadata": {
        "id": "jhTXd0qL7Bu5"
      },
      "source": [
        "Model training"
      ]
    },
    {
      "cell_type": "code",
      "metadata": {
        "id": "LXTBqVTI7BGw"
      },
      "source": [
        "from sklearn.linear_model import LinearRegression\n",
        "lr=LinearRegression()"
      ],
      "execution_count": 27,
      "outputs": []
    },
    {
      "cell_type": "code",
      "metadata": {
        "colab": {
          "base_uri": "https://localhost:8080/"
        },
        "id": "tN-RWE2v7XNW",
        "outputId": "7e3ae2d3-8905-4da8-f3eb-5f28297edc42"
      },
      "source": [
        "lr.fit(X_train_std,Y_train)"
      ],
      "execution_count": 28,
      "outputs": [
        {
          "output_type": "execute_result",
          "data": {
            "text/plain": [
              "LinearRegression(copy_X=True, fit_intercept=True, n_jobs=None, normalize=False)"
            ]
          },
          "metadata": {
            "tags": []
          },
          "execution_count": 28
        }
      ]
    },
    {
      "cell_type": "code",
      "metadata": {
        "id": "OYI0INGu7cjW"
      },
      "source": [
        "Y_pred=lr.predict(X_test_std)"
      ],
      "execution_count": 29,
      "outputs": []
    },
    {
      "cell_type": "code",
      "metadata": {
        "colab": {
          "base_uri": "https://localhost:8080/"
        },
        "id": "noAi5FSh7nbi",
        "outputId": "5677579a-8f53-4ccb-babb-07c58ffdd6f2"
      },
      "source": [
        "Y_pred"
      ],
      "execution_count": 30,
      "outputs": [
        {
          "output_type": "execute_result",
          "data": {
            "text/plain": [
              "array([356776.02589275, 511927.33428643, 573736.52389151, ...,\n",
              "       824101.44697874, 437013.51415353, 731915.82170728])"
            ]
          },
          "metadata": {
            "tags": []
          },
          "execution_count": 30
        }
      ]
    },
    {
      "cell_type": "code",
      "metadata": {
        "colab": {
          "base_uri": "https://localhost:8080/"
        },
        "id": "i1QEgp0O7rm_",
        "outputId": "e4c9f27f-f3e4-407c-cbc3-fe3a863a8af0"
      },
      "source": [
        "Y_pred\n"
      ],
      "execution_count": 31,
      "outputs": [
        {
          "output_type": "execute_result",
          "data": {
            "text/plain": [
              "array([356776.02589275, 511927.33428643, 573736.52389151, ...,\n",
              "       824101.44697874, 437013.51415353, 731915.82170728])"
            ]
          },
          "metadata": {
            "tags": []
          },
          "execution_count": 31
        }
      ]
    },
    {
      "cell_type": "code",
      "metadata": {
        "id": "Nio2nDTE7vvR"
      },
      "source": [
        "from sklearn.metrics import mean_absolute_error,r2_score"
      ],
      "execution_count": 32,
      "outputs": []
    },
    {
      "cell_type": "code",
      "metadata": {
        "colab": {
          "base_uri": "https://localhost:8080/"
        },
        "id": "469Sq0Bd7yTj",
        "outputId": "d1c290c8-35ca-4261-bafb-faca362a89a8"
      },
      "source": [
        "mean_absolute_error(Y_test,Y_pred)"
      ],
      "execution_count": 33,
      "outputs": [
        {
          "output_type": "execute_result",
          "data": {
            "text/plain": [
              "151500.53601090197"
            ]
          },
          "metadata": {
            "tags": []
          },
          "execution_count": 33
        }
      ]
    },
    {
      "cell_type": "code",
      "metadata": {
        "colab": {
          "base_uri": "https://localhost:8080/",
          "height": 444
        },
        "id": "H1N2Uhdk70ip",
        "outputId": "34ecf000-6d10-4aa6-954d-2056ed557677"
      },
      "source": [
        "X_test"
      ],
      "execution_count": 34,
      "outputs": [
        {
          "output_type": "execute_result",
          "data": {
            "text/html": [
              "<div>\n",
              "<style scoped>\n",
              "    .dataframe tbody tr th:only-of-type {\n",
              "        vertical-align: middle;\n",
              "    }\n",
              "\n",
              "    .dataframe tbody tr th {\n",
              "        vertical-align: top;\n",
              "    }\n",
              "\n",
              "    .dataframe thead th {\n",
              "        text-align: right;\n",
              "    }\n",
              "</style>\n",
              "<table border=\"1\" class=\"dataframe\">\n",
              "  <thead>\n",
              "    <tr style=\"text-align: right;\">\n",
              "      <th></th>\n",
              "      <th>bedrooms</th>\n",
              "      <th>bathrooms</th>\n",
              "      <th>sqft_living</th>\n",
              "      <th>sqft_lot</th>\n",
              "      <th>floors</th>\n",
              "      <th>waterfront</th>\n",
              "      <th>view</th>\n",
              "      <th>condition</th>\n",
              "      <th>grade</th>\n",
              "      <th>sqft_above</th>\n",
              "      <th>sqft_basement</th>\n",
              "      <th>sqft_living15</th>\n",
              "      <th>sqft_lot15</th>\n",
              "    </tr>\n",
              "  </thead>\n",
              "  <tbody>\n",
              "    <tr>\n",
              "      <th>3834</th>\n",
              "      <td>2</td>\n",
              "      <td>1.00000</td>\n",
              "      <td>1050</td>\n",
              "      <td>6317</td>\n",
              "      <td>1.50000</td>\n",
              "      <td>0</td>\n",
              "      <td>0</td>\n",
              "      <td>4</td>\n",
              "      <td>7</td>\n",
              "      <td>1050</td>\n",
              "      <td>0</td>\n",
              "      <td>1600</td>\n",
              "      <td>9616</td>\n",
              "    </tr>\n",
              "    <tr>\n",
              "      <th>1348</th>\n",
              "      <td>4</td>\n",
              "      <td>2.25000</td>\n",
              "      <td>2040</td>\n",
              "      <td>9565</td>\n",
              "      <td>1.00000</td>\n",
              "      <td>0</td>\n",
              "      <td>0</td>\n",
              "      <td>3</td>\n",
              "      <td>8</td>\n",
              "      <td>1400</td>\n",
              "      <td>640</td>\n",
              "      <td>1890</td>\n",
              "      <td>8580</td>\n",
              "    </tr>\n",
              "    <tr>\n",
              "      <th>20366</th>\n",
              "      <td>4</td>\n",
              "      <td>2.50000</td>\n",
              "      <td>2500</td>\n",
              "      <td>4000</td>\n",
              "      <td>2.00000</td>\n",
              "      <td>0</td>\n",
              "      <td>0</td>\n",
              "      <td>3</td>\n",
              "      <td>8</td>\n",
              "      <td>2500</td>\n",
              "      <td>0</td>\n",
              "      <td>1480</td>\n",
              "      <td>4300</td>\n",
              "    </tr>\n",
              "    <tr>\n",
              "      <th>16617</th>\n",
              "      <td>5</td>\n",
              "      <td>2.00000</td>\n",
              "      <td>2360</td>\n",
              "      <td>19899</td>\n",
              "      <td>1.00000</td>\n",
              "      <td>0</td>\n",
              "      <td>0</td>\n",
              "      <td>4</td>\n",
              "      <td>7</td>\n",
              "      <td>2360</td>\n",
              "      <td>0</td>\n",
              "      <td>1860</td>\n",
              "      <td>19998</td>\n",
              "    </tr>\n",
              "    <tr>\n",
              "      <th>20925</th>\n",
              "      <td>3</td>\n",
              "      <td>3.00000</td>\n",
              "      <td>1670</td>\n",
              "      <td>4440</td>\n",
              "      <td>1.00000</td>\n",
              "      <td>0</td>\n",
              "      <td>0</td>\n",
              "      <td>3</td>\n",
              "      <td>7</td>\n",
              "      <td>1670</td>\n",
              "      <td>0</td>\n",
              "      <td>1670</td>\n",
              "      <td>4622</td>\n",
              "    </tr>\n",
              "    <tr>\n",
              "      <th>...</th>\n",
              "      <td>...</td>\n",
              "      <td>...</td>\n",
              "      <td>...</td>\n",
              "      <td>...</td>\n",
              "      <td>...</td>\n",
              "      <td>...</td>\n",
              "      <td>...</td>\n",
              "      <td>...</td>\n",
              "      <td>...</td>\n",
              "      <td>...</td>\n",
              "      <td>...</td>\n",
              "      <td>...</td>\n",
              "      <td>...</td>\n",
              "    </tr>\n",
              "    <tr>\n",
              "      <th>7148</th>\n",
              "      <td>3</td>\n",
              "      <td>1.75000</td>\n",
              "      <td>1520</td>\n",
              "      <td>5500</td>\n",
              "      <td>1.50000</td>\n",
              "      <td>0</td>\n",
              "      <td>0</td>\n",
              "      <td>5</td>\n",
              "      <td>7</td>\n",
              "      <td>1520</td>\n",
              "      <td>0</td>\n",
              "      <td>2310</td>\n",
              "      <td>5500</td>\n",
              "    </tr>\n",
              "    <tr>\n",
              "      <th>2747</th>\n",
              "      <td>5</td>\n",
              "      <td>3.00000</td>\n",
              "      <td>2970</td>\n",
              "      <td>10335</td>\n",
              "      <td>2.00000</td>\n",
              "      <td>0</td>\n",
              "      <td>0</td>\n",
              "      <td>3</td>\n",
              "      <td>9</td>\n",
              "      <td>2970</td>\n",
              "      <td>0</td>\n",
              "      <td>2970</td>\n",
              "      <td>10335</td>\n",
              "    </tr>\n",
              "    <tr>\n",
              "      <th>15565</th>\n",
              "      <td>3</td>\n",
              "      <td>2.50000</td>\n",
              "      <td>3440</td>\n",
              "      <td>103672</td>\n",
              "      <td>2.00000</td>\n",
              "      <td>0</td>\n",
              "      <td>0</td>\n",
              "      <td>3</td>\n",
              "      <td>9</td>\n",
              "      <td>3440</td>\n",
              "      <td>0</td>\n",
              "      <td>2710</td>\n",
              "      <td>112820</td>\n",
              "    </tr>\n",
              "    <tr>\n",
              "      <th>21238</th>\n",
              "      <td>3</td>\n",
              "      <td>2.50000</td>\n",
              "      <td>1572</td>\n",
              "      <td>4000</td>\n",
              "      <td>2.00000</td>\n",
              "      <td>0</td>\n",
              "      <td>0</td>\n",
              "      <td>3</td>\n",
              "      <td>8</td>\n",
              "      <td>1572</td>\n",
              "      <td>0</td>\n",
              "      <td>1608</td>\n",
              "      <td>5175</td>\n",
              "    </tr>\n",
              "    <tr>\n",
              "      <th>2333</th>\n",
              "      <td>3</td>\n",
              "      <td>3.00000</td>\n",
              "      <td>2920</td>\n",
              "      <td>23085</td>\n",
              "      <td>1.50000</td>\n",
              "      <td>0</td>\n",
              "      <td>2</td>\n",
              "      <td>3</td>\n",
              "      <td>7</td>\n",
              "      <td>1540</td>\n",
              "      <td>1380</td>\n",
              "      <td>2270</td>\n",
              "      <td>18180</td>\n",
              "    </tr>\n",
              "  </tbody>\n",
              "</table>\n",
              "<p>5404 rows × 13 columns</p>\n",
              "</div>"
            ],
            "text/plain": [
              "       bedrooms  bathrooms  ...  sqft_living15  sqft_lot15\n",
              "3834          2    1.00000  ...           1600        9616\n",
              "1348          4    2.25000  ...           1890        8580\n",
              "20366         4    2.50000  ...           1480        4300\n",
              "16617         5    2.00000  ...           1860       19998\n",
              "20925         3    3.00000  ...           1670        4622\n",
              "...         ...        ...  ...            ...         ...\n",
              "7148          3    1.75000  ...           2310        5500\n",
              "2747          5    3.00000  ...           2970       10335\n",
              "15565         3    2.50000  ...           2710      112820\n",
              "21238         3    2.50000  ...           1608        5175\n",
              "2333          3    3.00000  ...           2270       18180\n",
              "\n",
              "[5404 rows x 13 columns]"
            ]
          },
          "metadata": {
            "tags": []
          },
          "execution_count": 34
        }
      ]
    },
    {
      "cell_type": "code",
      "metadata": {
        "colab": {
          "base_uri": "https://localhost:8080/"
        },
        "id": "dq81TGUh72bj",
        "outputId": "47e5b038-9fd9-4cdc-e227-df808632486d"
      },
      "source": [
        "\n",
        "\n",
        "X_test.loc[7148]\n",
        "\n"
      ],
      "execution_count": 35,
      "outputs": [
        {
          "output_type": "execute_result",
          "data": {
            "text/plain": [
              "bedrooms           3.00000\n",
              "bathrooms          1.75000\n",
              "sqft_living     1520.00000\n",
              "sqft_lot        5500.00000\n",
              "floors             1.50000\n",
              "waterfront         0.00000\n",
              "view               0.00000\n",
              "condition          5.00000\n",
              "grade              7.00000\n",
              "sqft_above      1520.00000\n",
              "sqft_basement      0.00000\n",
              "sqft_living15   2310.00000\n",
              "sqft_lot15      5500.00000\n",
              "Name: 7148, dtype: float64"
            ]
          },
          "metadata": {
            "tags": []
          },
          "execution_count": 35
        }
      ]
    },
    {
      "cell_type": "code",
      "metadata": {
        "colab": {
          "base_uri": "https://localhost:8080/"
        },
        "id": "RCRuUfp976qe",
        "outputId": "8859086a-2bca-432f-f7a2-62fe2d9ebcd9"
      },
      "source": [
        "r2_score(Y_test,Y_pred)"
      ],
      "execution_count": 36,
      "outputs": [
        {
          "output_type": "execute_result",
          "data": {
            "text/plain": [
              "0.6211653492243892"
            ]
          },
          "metadata": {
            "tags": []
          },
          "execution_count": 36
        }
      ]
    },
    {
      "cell_type": "markdown",
      "metadata": {
        "id": "3Otg9iko79RS"
      },
      "source": [
        "Lets predict for Single House"
      ]
    },
    {
      "cell_type": "code",
      "metadata": {
        "colab": {
          "base_uri": "https://localhost:8080/"
        },
        "id": "84ZbZoCi7-q6",
        "outputId": "cb3a0a8a-5a5e-4e68-a07d-d914fd83d319"
      },
      "source": [
        "new_house=[[3,1,1520,5000,1,0,0,3,8,1000,1,2000,5000]]\n",
        "\n",
        "\n",
        "new_house_std=std.transform(new_house)\n",
        "\n",
        "new_house_std"
      ],
      "execution_count": 38,
      "outputs": [
        {
          "output_type": "execute_result",
          "data": {
            "text/plain": [
              "array([[-0.40802008, -1.45225542, -0.61266906, -0.23898601, -0.91886978,\n",
              "        -0.08921717, -0.30859645, -0.62682707,  0.29479541, -0.95778828,\n",
              "        -0.65668671,  0.02089864, -0.27952571]])"
            ]
          },
          "metadata": {
            "tags": []
          },
          "execution_count": 38
        }
      ]
    },
    {
      "cell_type": "code",
      "metadata": {
        "colab": {
          "base_uri": "https://localhost:8080/"
        },
        "id": "KAwgEG7v8GmG",
        "outputId": "97c8b926-c38d-47f1-c34c-cd609c28b391"
      },
      "source": [
        "int(lr.predict(new_house_std))"
      ],
      "execution_count": 39,
      "outputs": [
        {
          "output_type": "execute_result",
          "data": {
            "text/plain": [
              "415354"
            ]
          },
          "metadata": {
            "tags": []
          },
          "execution_count": 39
        }
      ]
    }
  ]
}